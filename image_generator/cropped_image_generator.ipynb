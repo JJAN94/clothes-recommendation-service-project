{
 "cells": [
  {
   "cell_type": "markdown",
   "id": "ee040838-0cec-4d31-abf4-87c1d6808c5a",
   "metadata": {},
   "source": [
    "# Cropped Image Generator"
   ]
  },
  {
   "cell_type": "markdown",
   "id": "281b0224-a926-42a3-b8aa-f9da616295a5",
   "metadata": {},
   "source": [
    "## 필요모듈 임포트"
   ]
  },
  {
   "cell_type": "code",
   "execution_count": 1,
   "id": "7bc34551-95fe-4fc3-a700-af7054a9fbf7",
   "metadata": {},
   "outputs": [],
   "source": [
    "import cv2\n",
    "import os\n",
    "import numpy as np\n",
    "import json\n",
    "import matplotlib.pyplot as plt\n",
    "from tqdm import tqdm\n",
    "from PIL import Image\n",
    "import re"
   ]
  },
  {
   "cell_type": "code",
   "execution_count": 2,
   "id": "61c9cdbc-4b0d-4804-82c7-7f8df0572379",
   "metadata": {},
   "outputs": [],
   "source": [
    "#-*- encoding: utf8 -*-"
   ]
  },
  {
   "cell_type": "markdown",
   "id": "48e738e7-8ec1-439d-8d4d-3ee5d016f24a",
   "metadata": {},
   "source": [
    "## file 불러오기"
   ]
  },
  {
   "cell_type": "code",
   "execution_count": 3,
   "id": "971bb58c-acb2-4d1e-9733-9ac7044249f8",
   "metadata": {},
   "outputs": [],
   "source": [
    "img_dir = './data/fashion_data/train/원천데이터'\n",
    "json_dir = './data/fashion_data/train/라벨링데이터'\n",
    "cropped_dir = './data/fashion_data/cropped'"
   ]
  },
  {
   "cell_type": "markdown",
   "id": "c2157f8b-7a72-4764-8372-b1f8a64f97a0",
   "metadata": {},
   "source": [
    "# Test"
   ]
  },
  {
   "cell_type": "code",
   "execution_count": 4,
   "id": "b4407e53-a8a9-49eb-ab19-90408d2c505f",
   "metadata": {},
   "outputs": [
    {
     "data": {
      "text/plain": [
       "(23, 23)"
      ]
     },
     "execution_count": 4,
     "metadata": {},
     "output_type": "execute_result"
    }
   ],
   "source": [
    "# 항목이 같은지 확인\n",
    "len(os.listdir(img_dir)), len(os.listdir(json_dir))"
   ]
  },
  {
   "cell_type": "code",
   "execution_count": 5,
   "id": "c29d08ef-7c77-4433-a7c2-0f79a2244ba7",
   "metadata": {},
   "outputs": [],
   "source": [
    "import pandas as pd"
   ]
  },
  {
   "cell_type": "code",
   "execution_count": 6,
   "id": "1fff8310-525d-4be0-a241-579d01997768",
   "metadata": {},
   "outputs": [],
   "source": [
    "ls = os.listdir(cropped_dir)"
   ]
  },
  {
   "cell_type": "code",
   "execution_count": 7,
   "id": "6ac9b196-1f99-479f-bc55-378e46e2876e",
   "metadata": {},
   "outputs": [],
   "source": [
    "values = []\n",
    "for i in range(len(ls)):\n",
    "    values.append(ls[i].split('_')[2:4][0] + '_' + ls[i].split('_')[2:4][1])"
   ]
  },
  {
   "cell_type": "code",
   "execution_count": 8,
   "id": "9d2b411e-302e-497d-b1aa-f7b972ee3ad8",
   "metadata": {},
   "outputs": [],
   "source": [
    "dict = {'data':values}\n",
    "df = pd.DataFrame(dict)"
   ]
  },
  {
   "cell_type": "code",
   "execution_count": 9,
   "id": "4d8fa31d-8a2a-4a7c-8a08-632eae74c18c",
   "metadata": {},
   "outputs": [
    {
     "data": {
      "text/plain": [
       "상의_니트웨어     75204\n",
       "상의_블라우스    107748\n",
       "상의_셔츠       50440\n",
       "상의_탑        51759\n",
       "상의_티셔츠     190890\n",
       "상의_후드티      11758\n",
       "아우터_가디건     28060\n",
       "아우터_베스트     15781\n",
       "아우터_재킷      41928\n",
       "아우터_점퍼      13170\n",
       "아우터_코트      20806\n",
       "원피스_드레스    139441\n",
       "하의_스커트      94716\n",
       "하의_청바지     131831\n",
       "하의_팬츠      197874\n",
       "Name: data, dtype: int64"
      ]
     },
     "execution_count": 9,
     "metadata": {},
     "output_type": "execute_result"
    }
   ],
   "source": [
    "df['data'].value_counts()[df['data'].value_counts()>10743].sort_index()"
   ]
  },
  {
   "cell_type": "code",
   "execution_count": 10,
   "id": "6c032b2a-57a3-4372-811e-9554aba60e85",
   "metadata": {},
   "outputs": [
    {
     "data": {
      "text/plain": [
       "하의_팬츠       197874\n",
       "상의_티셔츠      190890\n",
       "원피스_드레스     139441\n",
       "하의_청바지      131831\n",
       "상의_블라우스     107748\n",
       "하의_스커트       94716\n",
       "상의_니트웨어      75204\n",
       "상의_탑         51759\n",
       "상의_셔츠        50440\n",
       "아우터_재킷       41928\n",
       "아우터_가디건      28060\n",
       "아우터_코트       20806\n",
       "아우터_베스트      15781\n",
       "아우터_점퍼       13170\n",
       "상의_후드티       11758\n",
       "상의_0         10743\n",
       "하의_0          9481\n",
       "하의_조거팬츠       6652\n",
       "아우터_패딩        5960\n",
       "하의_래깅스        5776\n",
       "원피스_점프수트      5548\n",
       "아우터_짚업        5427\n",
       "아우터_0         3629\n",
       "원피스_0         2724\n",
       "상의_브라탑        1578\n",
       "Name: data, dtype: int64"
      ]
     },
     "execution_count": 10,
     "metadata": {},
     "output_type": "execute_result"
    }
   ],
   "source": [
    "df['data'].value_counts()"
   ]
  },
  {
   "cell_type": "code",
   "execution_count": 15,
   "id": "1fa0e567-160e-40e0-bb28-7b646d59af4b",
   "metadata": {},
   "outputs": [],
   "source": [
    "def count_number(num):\n",
    "    num += 1\n",
    "    return num"
   ]
  },
  {
   "cell_type": "code",
   "execution_count": 29,
   "id": "8ca56ebe-1d90-4beb-96bb-3c1f763a2926",
   "metadata": {},
   "outputs": [
    {
     "data": {
      "text/plain": [
       "7"
      ]
     },
     "execution_count": 29,
     "metadata": {},
     "output_type": "execute_result"
    }
   ],
   "source": [
    "dict1 = {'상의' : ['탑', '블라우스', '티셔츠', '니트웨어', '셔츠', '브라탑', '후드티']}\n",
    "len(dict1['상의'])"
   ]
  },
  {
   "cell_type": "code",
   "execution_count": 51,
   "id": "00578404-214c-4913-8504-3b94ed93cfa7",
   "metadata": {},
   "outputs": [],
   "source": [
    "lsls = ['하의_청바지', '하의_팬츠', '하의_스커트', '하의_래깅스', '하의_조거팬츠']\n",
    "lsls2 = ['아우터_코트', '아우터_재킷','아우터_점퍼','아우터_패딩','아우터_베스트','아우터_가디건','아우터_짚업']\n",
    "lsls3 = ['원피스_드레스', '원피스_점프수트']"
   ]
  },
  {
   "cell_type": "code",
   "execution_count": 52,
   "id": "a865fa86-4868-44b5-bf4a-123398f63ba7",
   "metadata": {},
   "outputs": [
    {
     "name": "stdout",
     "output_type": "stream",
     "text": [
      "139441\n",
      "5548\n"
     ]
    }
   ],
   "source": [
    "for i in lsls3:\n",
    "    count = 0\n",
    "    for v in os.listdir(cropped_dir):\n",
    "        if v.find(i) != -1:\n",
    "            count+=1\n",
    "    print(count)"
   ]
  },
  {
   "cell_type": "code",
   "execution_count": 44,
   "id": "6bcba707-3300-4b0b-b85b-a3d4275cc461",
   "metadata": {},
   "outputs": [
    {
     "name": "stdout",
     "output_type": "stream",
     "text": [
      "5776\n"
     ]
    }
   ],
   "source": [
    "count = 0\n",
    "for v in os.listdir(cropped_dir):\n",
    "    if v.find('하의_래깅스') != -1:\n",
    "        count+=1\n",
    "print(count)"
   ]
  },
  {
   "cell_type": "code",
   "execution_count": null,
   "id": "18bfbfbe-f145-47a1-8200-32b69938cf31",
   "metadata": {},
   "outputs": [],
   "source": [
    "147713"
   ]
  },
  {
   "cell_type": "code",
   "execution_count": 3,
   "id": "80a04328-653c-4190-a58d-a4b3dffeb4ec",
   "metadata": {},
   "outputs": [],
   "source": [
    "# 세부항목 폴더 이름 리스트 생성\n",
    "name_ls = os.listdir(img_dir)"
   ]
  },
  {
   "cell_type": "code",
   "execution_count": 9,
   "id": "25eb3ef5-b18a-42dd-8354-7f2016e777d1",
   "metadata": {},
   "outputs": [
    {
     "data": {
      "text/plain": [
       "7521"
      ]
     },
     "execution_count": 9,
     "metadata": {},
     "output_type": "execute_result"
    }
   ],
   "source": [
    "len(os.listdir(img_dir + '/'+ '레트로'))"
   ]
  },
  {
   "cell_type": "code",
   "execution_count": 10,
   "id": "99bf1e50-fd7c-4220-9ab2-9535bf1aeb84",
   "metadata": {},
   "outputs": [
    {
     "data": {
      "text/plain": [
       "6230"
      ]
     },
     "execution_count": 10,
     "metadata": {},
     "output_type": "execute_result"
    }
   ],
   "source": [
    "len(os.listdir(json_dir+'/'+'섹시'))"
   ]
  },
  {
   "cell_type": "code",
   "execution_count": null,
   "id": "4dbca19d-cde9-4780-a9f2-4645094015d3",
   "metadata": {},
   "outputs": [],
   "source": []
  },
  {
   "cell_type": "markdown",
   "id": "903a90e3-48e4-4956-90c0-9b3564c01fa7",
   "metadata": {},
   "source": [
    "# 진행"
   ]
  },
  {
   "cell_type": "markdown",
   "id": "0716bf35-2a42-4b72-99ac-6cc22c05b44b",
   "metadata": {},
   "source": [
    "### 설명\n",
    "파일이름 : image_{1}\\_{1}\\_{category_name}\\_{세부이름들}\n",
    "- 첫번째 {}\n",
    "    - {'레트로' : 1, '로맨틱' : 2, '리조트' : 3.... } 이런식\n",
    "- 두번째 {}\n",
    "    - 이미지 순서 식별자\n",
    "- category_name\n",
    "    - 옷 대분류\n",
    "- 세부이름들 \n",
    "    - 색상, 서브색상, 카테고리, 소매기장, 소재 등등..."
   ]
  },
  {
   "cell_type": "markdown",
   "id": "0987a485-f099-42ac-b957-20fe3b23bdbc",
   "metadata": {},
   "source": [
    "### 설명 추가\n",
    "`image{number}_{style}_{카테고리}_{서브카테고리}_{컬러}_{서브컬러}_{소재}_{디테일}_{프린트}_{기장}_{소매기장}_{넥라인}_{칼라}_{핏}.jpg`"
   ]
  },
  {
   "cell_type": "code",
   "execution_count": null,
   "id": "c81116f1-bdf5-4b70-90db-6cc8fba5a4ed",
   "metadata": {},
   "outputs": [],
   "source": []
  },
  {
   "cell_type": "code",
   "execution_count": 11,
   "id": "c8685ece-a49e-4700-925b-159afd4e6999",
   "metadata": {},
   "outputs": [
    {
     "name": "stdout",
     "output_type": "stream",
     "text": [
      "['레트로', '로맨틱', '리조트', '매니시', '모던', '밀리터리', '섹시', '소피스트케이티드', '스트리트', '스포티', '아방가르드', '오리엔탈', '웨스턴', '젠더리스', '컨트리', '클래식', '키치', '톰보이', '펑크', '페미닌', '프레피', '히피', '힙합']\n"
     ]
    }
   ],
   "source": [
    "print(name_ls)"
   ]
  },
  {
   "cell_type": "code",
   "execution_count": 3,
   "id": "451f0e41-f2d4-4af8-87b4-d538929df839",
   "metadata": {},
   "outputs": [],
   "source": [
    "#카테고리 리스트\n",
    "category_ls = ['카테고리', '색상', '서브색상', '소재', '디테일', '프린트', '기장', '소매기장', '넥라인', '칼라', '핏']"
   ]
  },
  {
   "cell_type": "code",
   "execution_count": 4,
   "id": "fab7cb1d-b82e-43d3-94f4-fa945bbf6287",
   "metadata": {},
   "outputs": [],
   "source": [
    "def change_number(ls):\n",
    "    for i in range(4):\n",
    "        if ls[i] <= 0:\n",
    "            ls[i] = 1\n",
    "    return ls"
   ]
  },
  {
   "cell_type": "code",
   "execution_count": 73,
   "id": "1a3e4373-3457-4aae-aa0a-545ecbf38df5",
   "metadata": {},
   "outputs": [
    {
     "data": {
      "text/plain": [
       "['레트로', '로맨틱', '리조트', '매니시', '모던']"
      ]
     },
     "execution_count": 73,
     "metadata": {},
     "output_type": "execute_result"
    }
   ],
   "source": [
    "print(name_ls[:5])\n",
    "print()"
   ]
  },
  {
   "cell_type": "code",
   "execution_count": 12,
   "id": "ec3398da-060e-41e4-a853-7d271221596f",
   "metadata": {},
   "outputs": [
    {
     "name": "stderr",
     "output_type": "stream",
     "text": [
      "100%|██████████| 7521/7521 [01:49<00:00, 68.74it/s] \n",
      "100%|██████████| 8958/8958 [02:10<00:00, 68.86it/s]\n",
      "100%|██████████| 91346/91346 [22:48<00:00, 66.73it/s] \n",
      "100%|██████████| 9275/9275 [02:24<00:00, 64.26it/s]\n",
      "100%|██████████| 84514/84514 [22:03<00:00, 63.88it/s]\n",
      "100%|██████████| 3955/3955 [01:02<00:00, 62.91it/s]\n",
      "100%|██████████| 7003/7003 [01:50<00:00, 63.40it/s]\n",
      "100%|██████████| 35321/35321 [08:50<00:00, 66.56it/s]\n",
      "100%|██████████| 372765/372765 [1:45:42<00:00, 58.77it/s]  \n",
      "100%|██████████| 16170/16170 [05:04<00:00, 53.02it/s]\n",
      "100%|██████████| 3995/3995 [01:17<00:00, 51.53it/s]\n",
      "100%|██████████| 4456/4456 [01:27<00:00, 50.98it/s]\n",
      "100%|██████████| 1931/1931 [00:39<00:00, 48.69it/s]\n",
      "100%|██████████| 13457/13457 [04:29<00:00, 49.86it/s]\n",
      "100%|██████████| 35695/35695 [14:51<00:00, 40.04it/s]\n",
      "100%|██████████| 4824/4824 [02:55<00:00, 27.54it/s]\n",
      "100%|██████████| 5234/5234 [03:13<00:00, 27.04it/s]\n",
      "100%|██████████| 8455/8455 [05:21<00:00, 26.27it/s]\n",
      "100%|██████████| 424/424 [00:16<00:00, 25.47it/s]\n",
      "100%|██████████| 96562/96562 [3:01:09<00:00,  8.88it/s]  \n",
      "100%|██████████| 2734/2734 [20:03<00:00,  2.27it/s]\n",
      "100%|██████████| 7115/7115 [48:01<00:00,  2.47it/s]  \n",
      "100%|██████████| 1349/1349 [10:17<00:00,  2.19it/s]\n"
     ]
    }
   ],
   "source": [
    "#-*- encoding: utf8 -*-\n",
    "category_ls = ['카테고리', '색상', '서브색상', '소재', '디테일', '프린트', '기장', '소매기장', '넥라인', '칼라', '핏']\n",
    "name_ls = os.listdir(img_dir)\n",
    "image_number = 1\n",
    "image_sub_number = 1\n",
    "for i in name_ls :\n",
    "    \n",
    "    # 새 directory 만들기\n",
    "    new_img_dir = img_dir+'/'+i\n",
    "    new_json_dir = json_dir+'/'+i\n",
    "    \n",
    "    # json 경로에서 json 파일 불러와 읽기\n",
    "    for fn in tqdm(os.listdir(new_json_dir)):\n",
    "        with open(os.path.join(new_json_dir, fn), 'r', encoding='utf-8') as f:\n",
    "            json_data = json.load(f)\n",
    "        \n",
    "        # json 파일에서 이름을 추출해 img로 만들기\n",
    "        path = np.fromfile(os.path.join(new_img_dir, json_data['이미지 정보']['이미지 파일명']), np.uint8)\n",
    "        img = cv2.imdecode(path, cv2.IMREAD_COLOR)\n",
    "        img_rgb = cv2.cvtColor(img, cv2.COLOR_BGR2RGB)\n",
    "\n",
    "        \n",
    "        # boundingbox 좌표 가져오기\n",
    "        for category in json_data['데이터셋 정보']['데이터셋 상세설명']['렉트좌표'].keys():\n",
    "\n",
    "            if json_data['데이터셋 정보']['데이터셋 상세설명']['렉트좌표'][category] != [{}] :\n",
    "                sub_data = list(json_data['데이터셋 정보']['데이터셋 상세설명']['라벨링'][category])[0]\n",
    "                file_name = []\n",
    "\n",
    "                for j in category_ls:\n",
    "                    if j in sub_data:\n",
    "                        string = str(sub_data[j])\n",
    "                        if (j == '프린트') | (j == '소재'):\n",
    "                            string =string.replace(\"\\\\xa0\",\"_\") &nbsp\n",
    "                            string = re.sub('\\/', '_', string)\n",
    "                            file_name.append(string)\n",
    "                        else:\n",
    "                            string = re.sub('\\/', '_', string)\n",
    "                            file_name.append(string)\n",
    "                    else :\n",
    "                        file_name.append('0')\n",
    "                \n",
    "\n",
    "                rect = list(json_data['데이터셋 정보']['데이터셋 상세설명']['렉트좌표'][category][0].values())\n",
    "                rect = change_number(rect)\n",
    "                x = int(rect[0])\n",
    "                y = int(rect[1])\n",
    "                w = int(rect[2])\n",
    "                h = int(rect[3])\n",
    "\n",
    "                cropped_img = img_rgb[y: y + h, x: x + w]\n",
    "\n",
    "\n",
    "                join_name = '_'.join(file_name)\n",
    "                img_name = f'image{image_sub_number:07d}_{image_number}_{category}_{join_name}.jpg'\n",
    "\n",
    "\n",
    "                basename = f'{cropped_dir}/{img_name}'\n",
    "\n",
    "######################################################################\n",
    "                try :\n",
    "                    crop = cv2.cvtColor(cropped_img, cv2.COLOR_BGR2RGB)\n",
    "                    extension = os.path.splitext(img_name)[1]\n",
    "                    result, encoded_img = cv2.imencode(extension, crop)\n",
    "                \n",
    "                    if result:\n",
    "                        with open(basename, mode='w+b') as f:\n",
    "                            encoded_img.tofile(f)\n",
    "                except :\n",
    "                    print(basename)\n",
    "                    print(fn)\n",
    "                    \n",
    "\n",
    "        image_sub_number += 1\n",
    "    image_number += 1"
   ]
  },
  {
   "cell_type": "code",
   "execution_count": 10,
   "id": "0d94973f-ae5a-43c4-9aa8-43d639f5095d",
   "metadata": {
    "tags": []
   },
   "outputs": [
    {
     "name": "stdout",
     "output_type": "stream",
     "text": [
      "0001234\n"
     ]
    }
   ],
   "source": [
    "a = 1234\n",
    "b = f'{a:07d}'\n",
    "print(b)"
   ]
  },
  {
   "cell_type": "code",
   "execution_count": 26,
   "id": "7e876194-842e-4d34-8513-4cf6bb149d50",
   "metadata": {},
   "outputs": [],
   "source": [
    "j_data = {\n",
    "  \"이미지 정보\": {\n",
    "    \"이미지 식별자\": 207138,\n",
    "    \"이미지 높이\": 800,\n",
    "    \"이미지 파일명\": \"Forme_375_37.jpg\",\n",
    "    \"이미지 너비\": 800\n",
    "  },\n",
    "  \"데이터셋 정보\": {\n",
    "    \"파일 생성일자\": \"2020-09-07 02:55:21\",\n",
    "    \"데이터셋 상세설명\": {\n",
    "      \"렉트좌표\": {\n",
    "        \"아우터\": [\n",
    "          {\n",
    "            \"X좌표\": 114.0,\n",
    "            \"Y좌표\": 0.5,\n",
    "            \"가로\": 649,\n",
    "            \"세로\": 797\n",
    "          }\n",
    "        ],\n",
    "        \"하의\": [\n",
    "          {}\n",
    "        ],\n",
    "        \"원피스\": [\n",
    "          {}\n",
    "        ],\n",
    "        \"상의\": [\n",
    "          {}\n",
    "        ]\n",
    "      },\n",
    "      \"폴리곤좌표\": {\n",
    "        \"아우터\": [\n",
    "          {\n",
    "            \"X좌표39\": 130.5,\n",
    "          }\n",
    "        ],\n",
    "        \"하의\": [\n",
    "          {}\n",
    "        ],\n",
    "        \"원피스\": [\n",
    "          {}\n",
    "        ],\n",
    "        \"상의\": [\n",
    "          {}\n",
    "        ]\n",
    "      },\n",
    "      \"라벨링\": {\n",
    "        \"스타일\": [\n",
    "          {\n",
    "            \"스타일\": \"프레피\",\n",
    "            \"서브스타일\": \"클래식\"\n",
    "          }\n",
    "        ],\n",
    "        \"아우터\": [\n",
    "          {\n",
    "            \"기장\": \"하프\",\n",
    "            \"색상\": \"베이지\",\n",
    "            \"서브색상\": \"와인\",\n",
    "            \"카테고리\": \"재킷\",\n",
    "            \"디테일\": [\n",
    "              \"더블브레스티드\"\n",
    "            ],\n",
    "            \"소매기장\": \"긴팔\",\n",
    "            \"소재\": [\n",
    "              \"트위드\"\n",
    "            ],\n",
    "            \"프린트\": [\n",
    "              \"하운즈 투스\"\n",
    "            ],\n",
    "            \"넥라인\": \"터틀넥\",\n",
    "            \"핏\": \"노멀\"\n",
    "          }\n",
    "        ],\n",
    "        \"하의\": [\n",
    "          {}\n",
    "        ],\n",
    "        \"원피스\": [\n",
    "          {}\n",
    "        ],\n",
    "        \"상의\": [\n",
    "          {}\n",
    "        ]\n",
    "      }\n",
    "    },\n",
    "    \"파일 번호\": 207138,\n",
    "    \"파일 이름\": \"Forme_375_37.jpg\"\n",
    "  }\n",
    "}"
   ]
  },
  {
   "cell_type": "code",
   "execution_count": 60,
   "id": "ca676e66-0430-4bca-b14e-4f8703c2017c",
   "metadata": {},
   "outputs": [
    {
     "name": "stdout",
     "output_type": "stream",
     "text": [
      "['재킷', '베이지', '와인', \"['트위드']\", \"['더블브레스티드']\", \"['하운즈_투스']\", '하프', '긴팔', '터틀넥', '0', '노멀']\n"
     ]
    }
   ],
   "source": [
    "for cc in j_data['데이터셋 정보']['데이터셋 상세설명']['렉트좌표'].keys():\n",
    "    if j_data['데이터셋 정보']['데이터셋 상세설명']['렉트좌표'][cc] != [{}] :\n",
    "        sub_data = list(j_data['데이터셋 정보']['데이터셋 상세설명']['라벨링'][cc])[0]\n",
    "        file_name = []\n",
    "\n",
    "        for j in category_ls:\n",
    "#             print(j)\n",
    "            if j in sub_data:\n",
    "                string = str(sub_data[j])\n",
    "                if (j == '프린트') | (j == '소재') :\n",
    "                    string = string.replace(\"\\\\xa0\", \"_\")\n",
    "                    file_name.append(string)\n",
    "                else : \n",
    "                    string = re.sub('\\/', '_', string)\n",
    "                    file_name.append(string)\n",
    "            else :\n",
    "                file_name.append('0')\n",
    "print(file_name)"
   ]
  },
  {
   "cell_type": "code",
   "execution_count": null,
   "id": "bc2cc88b-451a-405e-9758-a03218b054a1",
   "metadata": {},
   "outputs": [],
   "source": [
    "img_dir+'/'+'레트로'+'/'+1-(9)-004-271-3031-5163-TOP_179_08.jpg"
   ]
  },
  {
   "cell_type": "code",
   "execution_count": 17,
   "id": "3756f7dd-47e7-448b-b570-db99ac5e2c6c",
   "metadata": {},
   "outputs": [
    {
     "data": {
      "text/plain": [
       "False"
      ]
     },
     "execution_count": 17,
     "metadata": {},
     "output_type": "execute_result"
    },
    {
     "data": {
      "image/png": "[encoded data removed]",
      "text/plain": [
       "<Figure size 432x288 with 1 Axes>"
      ]
     },
     "metadata": {
      "needs_background": "light"
     },
     "output_type": "display_data"
    }
   ],
   "source": [
    "basename = cropped_dir+'/'+'abc.jpg'\n",
    "abc = cv2.imdecode(np.fromfile(basename, np.uint8), cv2.IMREAD_COLOR)\n",
    "x = 200\n",
    "y = 350\n",
    "h = 450\n",
    "w = 250\n",
    "cropped_img = img_rgb[y: y + h, x: x + w]\n",
    "plt.imshow(cropped_img)\n",
    "cv2.imwrite(cropped_dir+'/'+'한국.jpg', cropped_img)"
   ]
  },
  {
   "cell_type": "code",
   "execution_count": null,
   "id": "cd1b7f7e-3db2-49d0-a888-1ca6284a8a94",
   "metadata": {},
   "outputs": [],
   "source": []
  },
  {
   "cell_type": "markdown",
   "id": "c1eb0405-5a55-452d-a50e-0898ff044ce6",
   "metadata": {},
   "source": [
    "### 파일 항목 테스트"
   ]
  },
  {
   "cell_type": "code",
   "execution_count": 77,
   "id": "f6ebbd68-e6f5-49b5-8224-f9e1c59ddafa",
   "metadata": {},
   "outputs": [],
   "source": [
    "import pandas as pd"
   ]
  },
  {
   "cell_type": "code",
   "execution_count": null,
   "id": "79fdefce-cb18-4200-96f8-d3f8ad99b497",
   "metadata": {},
   "outputs": [],
   "source": []
  },
  {
   "cell_type": "code",
   "execution_count": null,
   "id": "d12dca9e-6f2f-48ac-8ca6-618e5ebe547f",
   "metadata": {},
   "outputs": [],
   "source": []
  }
 ],
 "metadata": {
  "kernelspec": {
   "display_name": "Python 3",
   "language": "python",
   "name": "python3"
  },
  "language_info": {
   "codemirror_mode": {
    "name": "ipython",
    "version": 3
   },
   "file_extension": ".py",
   "mimetype": "text/x-python",
   "name": "python",
   "nbconvert_exporter": "python",
   "pygments_lexer": "ipython3",
   "version": "3.8.8"
  }
 },
 "nbformat": 4,
 "nbformat_minor": 5
}
