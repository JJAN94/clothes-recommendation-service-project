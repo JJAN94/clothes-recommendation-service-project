{
 "cells": [
  {
   "cell_type": "markdown",
   "id": "ee040838-0cec-4d31-abf4-87c1d6808c5a",
   "metadata": {},
   "source": [
    "# Cropped Image Generator"
   ]
  },
  {
   "cell_type": "markdown",
   "id": "281b0224-a926-42a3-b8aa-f9da616295a5",
   "metadata": {},
   "source": [
    "## 필요모듈 임포트"
   ]
  },
  {
   "cell_type": "code",
   "execution_count": 1,
   "id": "7bc34551-95fe-4fc3-a700-af7054a9fbf7",
   "metadata": {},
   "outputs": [],
   "source": [
    "import cv2\n",
    "import os\n",
    "import numpy as np\n",
    "import json\n",
    "import matplotlib.pyplot as plt\n",
    "from tqdm import tqdm\n",
    "from PIL import Image\n",
    "import re"
   ]
  },
  {
   "cell_type": "code",
   "execution_count": 2,
   "id": "61c9cdbc-4b0d-4804-82c7-7f8df0572379",
   "metadata": {},
   "outputs": [],
   "source": [
    "#-*- encoding: utf8 -*-"
   ]
  },
  {
   "cell_type": "markdown",
   "id": "48e738e7-8ec1-439d-8d4d-3ee5d016f24a",
   "metadata": {},
   "source": [
    "## file 불러오기"
   ]
  },
  {
   "cell_type": "code",
   "execution_count": 3,
   "id": "971bb58c-acb2-4d1e-9733-9ac7044249f8",
   "metadata": {},
   "outputs": [],
   "source": [
    "# img_dir = './data/fashion_data/train/원천데이터'\n",
    "# json_dir = './data/fashion_data/train/라벨링데이터'\n",
    "cropped_dir = './data/fashion_data/cropped'"
   ]
  },
  {
   "cell_type": "markdown",
   "id": "903a90e3-48e4-4956-90c0-9b3564c01fa7",
   "metadata": {},
   "source": [
    "## 파일 이름 생성 규칙"
   ]
  },
  {
   "cell_type": "markdown",
   "id": "0716bf35-2a42-4b72-99ac-6cc22c05b44b",
   "metadata": {},
   "source": [
    "image_{1}\\_{1}\\_{category_name}\\_{세부이름들}\n",
    "- 첫번째 {} : 스타일\n",
    "    - {'레트로' : 1, '로맨틱' : 2, '리조트' : 3.... } 이런식\n",
    "- 두번째 {} : 이미지 분류 넘버\n",
    "    - 이미지 순서 식별자\n",
    "- category_name \n",
    "    - 옷 대분류\n",
    "- 세부이름들 \n",
    "    - 색상, 서브색상, 카테고리, 소매기장, 소재 등등..."
   ]
  },
  {
   "cell_type": "markdown",
   "id": "0987a485-f099-42ac-b957-20fe3b23bdbc",
   "metadata": {},
   "source": [
    "### 설명 추가\n",
    "`image{number}_{style}_{카테고리}_{서브카테고리}_{컬러}_{서브컬러}_{소재}_{디테일}_{프린트}_{기장}_{소매기장}_{넥라인}_{칼라}_{핏}.jpg`"
   ]
  },
  {
   "cell_type": "code",
   "execution_count": null,
   "id": "c81116f1-bdf5-4b70-90db-6cc8fba5a4ed",
   "metadata": {},
   "outputs": [],
   "source": [
    "# 이름(스타일) 항목 리스트\n",
    "name_ls = ['레트로', '로맨틱', '리조트', '매니시', '모던', '밀리터리', '섹시', '소피스트케이티드', \n",
    "           '스트리트', '스포티', '아방가르드', '오리엔탈', '웨스턴', '젠더리스', '컨트리', '클래식', '키치', '톰보이', '펑크', '페미닌', '프레피', '히피', '힙합']"
   ]
  },
  {
   "cell_type": "code",
   "execution_count": 3,
   "id": "451f0e41-f2d4-4af8-87b4-d538929df839",
   "metadata": {},
   "outputs": [],
   "source": [
    "#카테고리 리스트\n",
    "category_ls = ['카테고리', '색상', '서브색상', '소재', '디테일', '프린트', '기장', '소매기장', '넥라인', '칼라', '핏']"
   ]
  },
  {
   "cell_type": "code",
   "execution_count": 4,
   "id": "fab7cb1d-b82e-43d3-94f4-fa945bbf6287",
   "metadata": {},
   "outputs": [],
   "source": [
    "def change_number(ls):\n",
    "    for i in range(4):\n",
    "        if ls[i] <= 0:\n",
    "            ls[i] = 1\n",
    "    return ls"
   ]
  },
  {
   "cell_type": "code",
   "execution_count": 12,
   "id": "ec3398da-060e-41e4-a853-7d271221596f",
   "metadata": {},
   "outputs": [
    {
     "name": "stderr",
     "output_type": "stream",
     "text": [
      "100%|██████████| 7521/7521 [01:49<00:00, 68.74it/s] \n",
      "100%|██████████| 8958/8958 [02:10<00:00, 68.86it/s]\n",
      "100%|██████████| 91346/91346 [22:48<00:00, 66.73it/s] \n",
      "100%|██████████| 9275/9275 [02:24<00:00, 64.26it/s]\n",
      "100%|██████████| 84514/84514 [22:03<00:00, 63.88it/s]\n",
      "100%|██████████| 3955/3955 [01:02<00:00, 62.91it/s]\n",
      "100%|██████████| 7003/7003 [01:50<00:00, 63.40it/s]\n",
      "100%|██████████| 35321/35321 [08:50<00:00, 66.56it/s]\n",
      "100%|██████████| 372765/372765 [1:45:42<00:00, 58.77it/s]  \n",
      "100%|██████████| 16170/16170 [05:04<00:00, 53.02it/s]\n",
      "100%|██████████| 3995/3995 [01:17<00:00, 51.53it/s]\n",
      "100%|██████████| 4456/4456 [01:27<00:00, 50.98it/s]\n",
      "100%|██████████| 1931/1931 [00:39<00:00, 48.69it/s]\n",
      "100%|██████████| 13457/13457 [04:29<00:00, 49.86it/s]\n",
      "100%|██████████| 35695/35695 [14:51<00:00, 40.04it/s]\n",
      "100%|██████████| 4824/4824 [02:55<00:00, 27.54it/s]\n",
      "100%|██████████| 5234/5234 [03:13<00:00, 27.04it/s]\n",
      "100%|██████████| 8455/8455 [05:21<00:00, 26.27it/s]\n",
      "100%|██████████| 424/424 [00:16<00:00, 25.47it/s]\n",
      "100%|██████████| 96562/96562 [3:01:09<00:00,  8.88it/s]  \n",
      "100%|██████████| 2734/2734 [20:03<00:00,  2.27it/s]\n",
      "100%|██████████| 7115/7115 [48:01<00:00,  2.47it/s]  \n",
      "100%|██████████| 1349/1349 [10:17<00:00,  2.19it/s]\n"
     ]
    }
   ],
   "source": [
    "#-*- encoding: utf8 -*-\n",
    "category_ls = ['카테고리', '색상', '서브색상', '소재', '디테일', '프린트', '기장', '소매기장', '넥라인', '칼라', '핏']\n",
    "name_ls = os.listdir(img_dir)\n",
    "image_number = 1\n",
    "image_sub_number = 1\n",
    "for i in name_ls :\n",
    "    \n",
    "    # 새 directory 만들기\n",
    "    new_img_dir = img_dir+'/'+i\n",
    "    new_json_dir = json_dir+'/'+i\n",
    "    \n",
    "    # json 경로에서 json 파일 불러와 읽기\n",
    "    for fn in tqdm(os.listdir(new_json_dir)):\n",
    "        with open(os.path.join(new_json_dir, fn), 'r', encoding='utf-8') as f:\n",
    "            json_data = json.load(f)\n",
    "        \n",
    "        # json 파일에서 이름을 추출해 img로 만들기\n",
    "        path = np.fromfile(os.path.join(new_img_dir, json_data['이미지 정보']['이미지 파일명']), np.uint8)\n",
    "        img = cv2.imdecode(path, cv2.IMREAD_COLOR)\n",
    "        img_rgb = cv2.cvtColor(img, cv2.COLOR_BGR2RGB)\n",
    "\n",
    "        \n",
    "        # boundingbox 좌표 가져오기\n",
    "        for category in json_data['데이터셋 정보']['데이터셋 상세설명']['렉트좌표'].keys():\n",
    "\n",
    "            if json_data['데이터셋 정보']['데이터셋 상세설명']['렉트좌표'][category] != [{}] :\n",
    "                sub_data = list(json_data['데이터셋 정보']['데이터셋 상세설명']['라벨링'][category])[0]\n",
    "                file_name = []\n",
    "\n",
    "                for j in category_ls:\n",
    "                    if j in sub_data:\n",
    "                        string = str(sub_data[j])\n",
    "                        if (j == '프린트') | (j == '소재'):\n",
    "                            string =string.replace(\"\\\\xa0\",\"_\") &nbsp\n",
    "                            string = re.sub('\\/', '_', string)\n",
    "                            file_name.append(string)\n",
    "                        else:\n",
    "                            string = re.sub('\\/', '_', string)\n",
    "                            file_name.append(string)\n",
    "                    else :\n",
    "                        file_name.append('0')\n",
    "                \n",
    "\n",
    "                rect = list(json_data['데이터셋 정보']['데이터셋 상세설명']['렉트좌표'][category][0].values())\n",
    "                rect = change_number(rect)\n",
    "                x = int(rect[0])\n",
    "                y = int(rect[1])\n",
    "                w = int(rect[2])\n",
    "                h = int(rect[3])\n",
    "\n",
    "                cropped_img = img_rgb[y: y + h, x: x + w]\n",
    "\n",
    "\n",
    "                join_name = '_'.join(file_name)\n",
    "                img_name = f'image{image_sub_number:07d}_{image_number}_{category}_{join_name}.jpg'\n",
    "\n",
    "\n",
    "                basename = f'{cropped_dir}/{img_name}'\n",
    "\n",
    "######################################################################\n",
    "                try :\n",
    "                    crop = cv2.cvtColor(cropped_img, cv2.COLOR_BGR2RGB)\n",
    "                    extension = os.path.splitext(img_name)[1]\n",
    "                    result, encoded_img = cv2.imencode(extension, crop)\n",
    "                \n",
    "                    if result:\n",
    "                        with open(basename, mode='w+b') as f:\n",
    "                            encoded_img.tofile(f)\n",
    "                except :\n",
    "                    print(basename)\n",
    "                    print(fn)\n",
    "                    \n",
    "\n",
    "        image_sub_number += 1\n",
    "    image_number += 1"
   ]
  },
  {
   "cell_type": "code",
   "execution_count": null,
   "id": "cd1b7f7e-3db2-49d0-a888-1ca6284a8a94",
   "metadata": {},
   "outputs": [],
   "source": []
  },
  {
   "cell_type": "code",
   "execution_count": null,
   "id": "79fdefce-cb18-4200-96f8-d3f8ad99b497",
   "metadata": {},
   "outputs": [],
   "source": []
  },
  {
   "cell_type": "code",
   "execution_count": null,
   "id": "d12dca9e-6f2f-48ac-8ca6-618e5ebe547f",
   "metadata": {},
   "outputs": [],
   "source": []
  }
 ],
 "metadata": {
  "kernelspec": {
   "display_name": "Python 3",
   "language": "python",
   "name": "python3"
  },
  "language_info": {
   "codemirror_mode": {
    "name": "ipython",
    "version": 3
   },
   "file_extension": ".py",
   "mimetype": "text/x-python",
   "name": "python",
   "nbconvert_exporter": "python",
   "pygments_lexer": "ipython3",
   "version": "3.8.8"
  }
 },
 "nbformat": 4,
 "nbformat_minor": 5
}
