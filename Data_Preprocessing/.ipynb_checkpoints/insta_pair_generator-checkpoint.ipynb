{
 "cells": [
  {
   "cell_type": "code",
   "execution_count": 2,
   "id": "5d11b393-a84b-4689-945c-c94293696262",
   "metadata": {},
   "outputs": [],
   "source": [
    "import pandas as pd\n",
    "import os"
   ]
  },
  {
   "cell_type": "code",
   "execution_count": 30,
   "id": "f71ece9a-0482-4491-86d1-96c193ac4adb",
   "metadata": {},
   "outputs": [],
   "source": [
    "ls = os.listdir('../data/image/insta_image')"
   ]
  },
  {
   "cell_type": "code",
   "execution_count": 25,
   "id": "2637dd8b-6833-4dc3-96af-1946fa674713",
   "metadata": {},
   "outputs": [
    {
     "data": {
      "text/html": [
       "<div>\n",
       "<style scoped>\n",
       "    .dataframe tbody tr th:only-of-type {\n",
       "        vertical-align: middle;\n",
       "    }\n",
       "\n",
       "    .dataframe tbody tr th {\n",
       "        vertical-align: top;\n",
       "    }\n",
       "\n",
       "    .dataframe thead th {\n",
       "        text-align: right;\n",
       "    }\n",
       "</style>\n",
       "<table border=\"1\" class=\"dataframe\">\n",
       "  <thead>\n",
       "    <tr style=\"text-align: right;\">\n",
       "      <th></th>\n",
       "      <th>image_name</th>\n",
       "    </tr>\n",
       "  </thead>\n",
       "  <tbody>\n",
       "    <tr>\n",
       "      <th>0</th>\n",
       "      <td>image_01640_p0_b0_c7.jpg</td>\n",
       "    </tr>\n",
       "    <tr>\n",
       "      <th>1</th>\n",
       "      <td>image_01640_p0_b1_c0.jpg</td>\n",
       "    </tr>\n",
       "    <tr>\n",
       "      <th>2</th>\n",
       "      <td>image_01641_p0_b0_c7.jpg</td>\n",
       "    </tr>\n",
       "    <tr>\n",
       "      <th>3</th>\n",
       "      <td>image_01641_p0_b1_c0.jpg</td>\n",
       "    </tr>\n",
       "    <tr>\n",
       "      <th>4</th>\n",
       "      <td>image_01642_p0_b0_c0.jpg</td>\n",
       "    </tr>\n",
       "  </tbody>\n",
       "</table>\n",
       "</div>"
      ],
      "text/plain": [
       "                 image_name\n",
       "0  image_01640_p0_b0_c7.jpg\n",
       "1  image_01640_p0_b1_c0.jpg\n",
       "2  image_01641_p0_b0_c7.jpg\n",
       "3  image_01641_p0_b1_c0.jpg\n",
       "4  image_01642_p0_b0_c0.jpg"
      ]
     },
     "execution_count": 25,
     "metadata": {},
     "output_type": "execute_result"
    }
   ],
   "source": [
    "data = {'image_name' : ls}\n",
    "df = pd.DataFrame(data)\n",
    "df.head()"
   ]
  },
  {
   "cell_type": "code",
   "execution_count": 31,
   "id": "589d2f8e-88ab-4f7e-87a5-2b475ad378af",
   "metadata": {},
   "outputs": [],
   "source": [
    "pair_ls = []\n",
    "for i in range(len(ls)):\n",
    "    if i%2 == 0:\n",
    "        pair_ls.append(ls[i+1])\n",
    "    else :\n",
    "        pair_ls.append(ls[i-1])"
   ]
  },
  {
   "cell_type": "code",
   "execution_count": 36,
   "id": "aa9dce52-5782-43bd-b147-93d599837379",
   "metadata": {},
   "outputs": [],
   "source": [
    "df['pair_name'] = pair_ls"
   ]
  },
  {
   "cell_type": "code",
   "execution_count": 38,
   "id": "a63ffdd6-af22-4dd9-b17e-1c0b9292a6ee",
   "metadata": {},
   "outputs": [],
   "source": [
    "df.to_csv('insta_pair.csv', encoding='utf-8')"
   ]
  },
  {
   "cell_type": "code",
   "execution_count": null,
   "id": "585d824e-67d6-4b65-baad-ca4adc1e0faa",
   "metadata": {},
   "outputs": [],
   "source": []
  }
 ],
 "metadata": {
  "kernelspec": {
   "display_name": "Python 3",
   "language": "python",
   "name": "python3"
  },
  "language_info": {
   "codemirror_mode": {
    "name": "ipython",
    "version": 3
   },
   "file_extension": ".py",
   "mimetype": "text/x-python",
   "name": "python",
   "nbconvert_exporter": "python",
   "pygments_lexer": "ipython3",
   "version": "3.8.8"
  }
 },
 "nbformat": 4,
 "nbformat_minor": 5
}
