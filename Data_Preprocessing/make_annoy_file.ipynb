{
 "cells": [
  {
   "cell_type": "code",
   "execution_count": 1,
   "metadata": {
    "id": "fL99nQqrAIVq"
   },
   "outputs": [],
   "source": [
    "from tensorflow.keras.layers import Flatten, Dense, Input,concatenate\n",
    "from tensorflow.keras.layers import Conv2D, MaxPooling2D\n",
    "from tensorflow.keras.layers import Activation, Dropout\n",
    "from tensorflow.keras.models import Model\n",
    "from tensorflow.keras.models import Sequential\n",
    "import tensorflow as tf\n",
    "from tensorflow.keras.layers import GlobalAveragePooling2D"
   ]
  },
  {
   "cell_type": "code",
   "execution_count": 2,
   "metadata": {
    "id": "A60xye9JAIVt"
   },
   "outputs": [],
   "source": [
    "import os\n",
    "import annoy\n",
    "from annoy import AnnoyIndex\n",
    "import pickle\n",
    "import cv2\n",
    "from tqdm import tqdm"
   ]
  },
  {
   "cell_type": "code",
   "execution_count": 3,
   "metadata": {
    "id": "J8h35lC3AIVt",
    "outputId": "e3709d5c-4f1e-4082-8926-5c6b16df83bd"
   },
   "outputs": [],
   "source": [
    "vgg16 = tf.keras.applications.VGG16(weights='imagenet', include_top=True, pooling='max', input_shape=(224, 224, 3))"
   ]
  },
  {
   "cell_type": "code",
   "execution_count": 4,
   "metadata": {
    "id": "tFVhdOAzAIVu"
   },
   "outputs": [],
   "source": [
    "basemodel = Model(inputs=vgg16.input, outputs=vgg16.get_layer('fc2').output)"
   ]
  },
  {
   "cell_type": "code",
   "execution_count": 5,
   "metadata": {
    "id": "34_8vL5MAIVv",
    "outputId": "7e858b0f-4e70-42a6-ba64-c5c06942e1a5"
   },
   "outputs": [
    {
     "name": "stdout",
     "output_type": "stream",
     "text": [
      "Model: \"model\"\n",
      "_________________________________________________________________\n",
      "Layer (type)                 Output Shape              Param #   \n",
      "=================================================================\n",
      "input_1 (InputLayer)         [(None, 224, 224, 3)]     0         \n",
      "_________________________________________________________________\n",
      "block1_conv1 (Conv2D)        (None, 224, 224, 64)      1792      \n",
      "_________________________________________________________________\n",
      "block1_conv2 (Conv2D)        (None, 224, 224, 64)      36928     \n",
      "_________________________________________________________________\n",
      "block1_pool (MaxPooling2D)   (None, 112, 112, 64)      0         \n",
      "_________________________________________________________________\n",
      "block2_conv1 (Conv2D)        (None, 112, 112, 128)     73856     \n",
      "_________________________________________________________________\n",
      "block2_conv2 (Conv2D)        (None, 112, 112, 128)     147584    \n",
      "_________________________________________________________________\n",
      "block2_pool (MaxPooling2D)   (None, 56, 56, 128)       0         \n",
      "_________________________________________________________________\n",
      "block3_conv1 (Conv2D)        (None, 56, 56, 256)       295168    \n",
      "_________________________________________________________________\n",
      "block3_conv2 (Conv2D)        (None, 56, 56, 256)       590080    \n",
      "_________________________________________________________________\n",
      "block3_conv3 (Conv2D)        (None, 56, 56, 256)       590080    \n",
      "_________________________________________________________________\n",
      "block3_pool (MaxPooling2D)   (None, 28, 28, 256)       0         \n",
      "_________________________________________________________________\n",
      "block4_conv1 (Conv2D)        (None, 28, 28, 512)       1180160   \n",
      "_________________________________________________________________\n",
      "block4_conv2 (Conv2D)        (None, 28, 28, 512)       2359808   \n",
      "_________________________________________________________________\n",
      "block4_conv3 (Conv2D)        (None, 28, 28, 512)       2359808   \n",
      "_________________________________________________________________\n",
      "block4_pool (MaxPooling2D)   (None, 14, 14, 512)       0         \n",
      "_________________________________________________________________\n",
      "block5_conv1 (Conv2D)        (None, 14, 14, 512)       2359808   \n",
      "_________________________________________________________________\n",
      "block5_conv2 (Conv2D)        (None, 14, 14, 512)       2359808   \n",
      "_________________________________________________________________\n",
      "block5_conv3 (Conv2D)        (None, 14, 14, 512)       2359808   \n",
      "_________________________________________________________________\n",
      "block5_pool (MaxPooling2D)   (None, 7, 7, 512)         0         \n",
      "_________________________________________________________________\n",
      "flatten (Flatten)            (None, 25088)             0         \n",
      "_________________________________________________________________\n",
      "fc1 (Dense)                  (None, 4096)              102764544 \n",
      "_________________________________________________________________\n",
      "fc2 (Dense)                  (None, 4096)              16781312  \n",
      "=================================================================\n",
      "Total params: 134,260,544\n",
      "Trainable params: 134,260,544\n",
      "Non-trainable params: 0\n",
      "_________________________________________________________________\n"
     ]
    }
   ],
   "source": [
    "basemodel.summary()"
   ]
  },
  {
   "cell_type": "code",
   "execution_count": 8,
   "metadata": {
    "id": "nu4Hut0_AIVv"
   },
   "outputs": [],
   "source": [
    "def get_feature_vector(img):\n",
    "    img1 = cv2.resize(img, (224, 224))\n",
    "    feature_vector = basemodel.predict(img1.reshape(1, 224, 224, 3))\n",
    "    return feature_vector"
   ]
  },
  {
   "cell_type": "code",
   "execution_count": 9,
   "metadata": {
    "id": "XaIxF_j7AIVv"
   },
   "outputs": [],
   "source": [
    "def calculate_similarity(vector1, vector2):\n",
    "    return 1-cosine(vector1, vector2)"
   ]
  },
  {
   "cell_type": "code",
   "execution_count": 11,
   "metadata": {
    "id": "NJp_AdpNAIVv",
    "outputId": "0603be86-5e95-4845-d940-5ad02c41bcb2"
   },
   "outputs": [
    {
     "name": "stderr",
     "output_type": "stream",
     "text": [
      "100%|██████████| 6138/6138 [04:18<00:00, 23.72it/s]\n"
     ]
    },
    {
     "data": {
      "text/plain": [
       "True"
      ]
     },
     "execution_count": 11,
     "metadata": {},
     "output_type": "execute_result"
    }
   ],
   "source": [
    "# 인스타\n",
    "insta_dir = '../data/image/insta_image'\n",
    "f = 4096\n",
    "t = AnnoyIndex(f, 'angular')  # Length of item vector that will be indexed\n",
    "insta_index = {k:v for k, v in enumerate(os.listdir(insta_dir))}\n",
    "with open('insta_index.pickle', 'wb') as f:\n",
    "    pickle.dump(insta_index, f, pickle.HIGHEST_PROTOCOL)\n",
    "\n",
    "\n",
    "for no, fn in tqdm(insta_index.items()):\n",
    "    img = cv2.imread('{}/{}'.format(insta_dir,fn))\n",
    "    v = get_feature_vector(img)[0]\n",
    "    t.add_item(no, v)\n",
    "\n",
    "t.build(10) # 10 trees\n",
    "t.save('insta_search.ann') # insta 검색용"
   ]
  },
  {
   "cell_type": "code",
   "execution_count": null,
   "metadata": {},
   "outputs": [],
   "source": [
    "# 무신사\n",
    "insta_dir = '../data/image/mall_image'\n",
    "f = 4096\n",
    "t = AnnoyIndex(f, 'angular')  # Length of item vector that will be indexed\n",
    "insta_index = {k:v for k, v in enumerate(os.listdir(mu_dir))}\n",
    "with open('mu_index.pickle', 'wb') as f:\n",
    "    pickle.dump(mu_index, f, pickle.HIGHEST_PROTOCOL)\n",
    "\n",
    "\n",
    "for no, fn in tqdm(mu_index.items()):\n",
    "    img = cv2.imread('{}/{}'.format(mu_dir,fn))\n",
    "    v = get_feature_vector(img)[0]\n",
    "    t.add_item(no, v)\n",
    "\n",
    "t.build(10) # 10 trees\n",
    "t.save('mu_search.ann') # musinsa 검색용"
   ]
  }
 ],
 "metadata": {
  "colab": {
   "name": "make_annoy_file.ipynb",
   "provenance": []
  },
  "kernelspec": {
   "display_name": "Python 3",
   "language": "python",
   "name": "python3"
  },
  "language_info": {
   "codemirror_mode": {
    "name": "ipython",
    "version": 3
   },
   "file_extension": ".py",
   "mimetype": "text/x-python",
   "name": "python",
   "nbconvert_exporter": "python",
   "pygments_lexer": "ipython3",
   "version": "3.8.8"
  }
 },
 "nbformat": 4,
 "nbformat_minor": 4
}
