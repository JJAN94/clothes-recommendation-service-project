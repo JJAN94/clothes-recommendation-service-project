{
 "cells": [
  {
   "cell_type": "markdown",
   "metadata": {},
   "source": [
    "# 무xx 크롤링"
   ]
  },
  {
   "cell_type": "markdown",
   "metadata": {},
   "source": [
    "## Import package"
   ]
  },
  {
   "cell_type": "code",
   "execution_count": 1,
   "metadata": {},
   "outputs": [],
   "source": [
    "import urllib\n",
    "from selenium import webdriver\n",
    "import time\n",
    "import pandas as pd\n",
    "import sys\n",
    "import os\n",
    "from tqdm import tqdm"
   ]
  },
  {
   "cell_type": "markdown",
   "metadata": {},
   "source": [
    "## file name rule\n",
    "- {number_ls[k]:02d}_\\{page:03d}_\\{i:02d}.jpg\n",
    "- number_ls\n",
    "    - 01 : 후드 집업\n",
    "    - 02 : 셔츠/블라우스\n",
    "    - 03 : 긴팔 티셔츠\n",
    "    - 04 : 맨투맨/스웨트셔츠\n",
    "    - 05 : 슈트/블레이저 재킷\n",
    "    - 06 : 후드 티셔츠\n",
    "    - 07 : 니트/스웨터\n",
    "    - 08 : 데님 팬츠\n",
    "    - 09 : 트레이닝/조거 팬츠\n",
    "    - 10 : 슈트 팬츠/슬랙스\n",
    "- page : site page number\n",
    "- i : image index per page"
   ]
  },
  {
   "cell_type": "markdown",
   "metadata": {},
   "source": [
    "## page information"
   ]
  },
  {
   "cell_type": "code",
   "execution_count": 2,
   "metadata": {},
   "outputs": [],
   "source": [
    "number_ls = [1, 2, 3, 4, 5, 6, 7, 8, 9, 10]\n",
    "page_count = [27, 147, 101, 246, 25, 153, 77, 69, 113, 49]\n",
    "page_category = ['002022', '001002', '001010', '001005', '002003', '001004', '001006', '003002', '003004', '003008']"
   ]
  },
  {
   "cell_type": "markdown",
   "metadata": {},
   "source": [
    "## Crawling Code"
   ]
  },
  {
   "cell_type": "code",
   "execution_count": 5,
   "metadata": {},
   "outputs": [
    {
     "name": "stderr",
     "output_type": "stream",
     "text": [
      "100%|██████████| 27/27 [12:33<00:00, 27.89s/it]\n",
      "100%|██████████| 147/147 [1:16:52<00:00, 31.38s/it]\n",
      "100%|██████████| 101/101 [54:32<00:00, 32.40s/it] \n",
      " 91%|█████████▏| 225/246 [2:09:07<12:03, 34.43s/it]  \n"
     ]
    },
    {
     "ename": "IndexError",
     "evalue": "list index out of range",
     "output_type": "error",
     "traceback": [
      "\u001b[1;31m---------------------------------------------------------------------------\u001b[0m",
      "\u001b[1;31mIndexError\u001b[0m                                Traceback (most recent call last)",
      "\u001b[1;32m<ipython-input-5-5ad8744e128d>\u001b[0m in \u001b[0;36m<module>\u001b[1;34m\u001b[0m\n\u001b[0;32m     32\u001b[0m             \u001b[0mname\u001b[0m \u001b[1;33m=\u001b[0m \u001b[0mele\u001b[0m\u001b[1;33m.\u001b[0m\u001b[0mfind_element_by_xpath\u001b[0m\u001b[1;33m(\u001b[0m\u001b[1;34m'./div/p[@class=\"list_info\"]'\u001b[0m\u001b[1;33m)\u001b[0m\u001b[1;33m.\u001b[0m\u001b[0mtext\u001b[0m\u001b[1;33m\u001b[0m\u001b[1;33m\u001b[0m\u001b[0m\n\u001b[0;32m     33\u001b[0m             \u001b[0mprice\u001b[0m \u001b[1;33m=\u001b[0m \u001b[0mele\u001b[0m\u001b[1;33m.\u001b[0m\u001b[0mfind_element_by_xpath\u001b[0m\u001b[1;33m(\u001b[0m\u001b[1;34m'./div/p[@class=\"price\"]'\u001b[0m\u001b[1;33m)\u001b[0m\u001b[1;33m.\u001b[0m\u001b[0mtext\u001b[0m\u001b[1;33m\u001b[0m\u001b[1;33m\u001b[0m\u001b[0m\n\u001b[1;32m---> 34\u001b[1;33m             \u001b[0mitem_url\u001b[0m \u001b[1;33m=\u001b[0m \u001b[1;34mf\"{item_url_src}/{img.split('/')[6]}\"\u001b[0m\u001b[1;33m\u001b[0m\u001b[1;33m\u001b[0m\u001b[0m\n\u001b[0m\u001b[0;32m     35\u001b[0m             \u001b[1;32mtry\u001b[0m \u001b[1;33m:\u001b[0m\u001b[1;33m\u001b[0m\u001b[1;33m\u001b[0m\u001b[0m\n\u001b[0;32m     36\u001b[0m                 \u001b[0mdel_price\u001b[0m \u001b[1;33m=\u001b[0m \u001b[0mele\u001b[0m\u001b[1;33m.\u001b[0m\u001b[0mfind_element_by_xpath\u001b[0m\u001b[1;33m(\u001b[0m\u001b[1;34m'./div/p[@class=\"price\"]/del'\u001b[0m\u001b[1;33m)\u001b[0m\u001b[1;33m.\u001b[0m\u001b[0mtext\u001b[0m\u001b[1;33m\u001b[0m\u001b[1;33m\u001b[0m\u001b[0m\n",
      "\u001b[1;31mIndexError\u001b[0m: list index out of range"
     ]
    }
   ],
   "source": [
    "df = pd.DataFrame(columns=['img', 'title', 'price', 'img_url', 'item_url'])\n",
    "df.index.name = 'ID'\n",
    "item_url_src = 'https://store.musinsa.com/app/goods'\n",
    "\n",
    "for k in range(10):\n",
    "    for page in tqdm(range(1, page_count[k]+1)):\n",
    "        binary = './chromedriver/chromedriver.exe'\n",
    "        driver = webdriver.Chrome(binary)\n",
    "\n",
    "        # 인기탭 창 띄우기\n",
    "        # 후드 집업\n",
    "        url = f\"https://search.musinsa.com/category/{page_category[k]}?d_cat_cd={page_category[k]}&brand=&rate=&page_kind=search&list_kind=small&sort=pop&sub_sort=&page={page}&display_cnt=90&sale_goods=&ex_soldout=&color=&price1=&price2=&exclusive_yn=&shoeSizeOption=&tags=&campaign_id=&timesale_yn=&q=&includeKeywords=&measure=\"\n",
    "        driver.get(url)\n",
    "        time.sleep(2)\n",
    "\n",
    "        # 남성 항목 클릭\n",
    "        btn = driver.find_element_by_xpath('/html/body/div[2]/div[3]/div[12]/button[2]')\n",
    "        btn.click()\n",
    "        time.sleep(1)\n",
    "        #pattern\n",
    "        musinsa = driver.find_elements_by_xpath('//img[@class=\"lazyload lazy\"]')\n",
    "\n",
    "        for i in range(len(musinsa)):\n",
    "\n",
    "            img_ele = musinsa[i]\n",
    "            driver.execute_script(\"arguments[0].scrollIntoView();\", img_ele)\n",
    "            img = img_ele.get_attribute('src')\n",
    "\n",
    "            img_file = f\"../img_src/mu_img/{number_ls[k]:02d}_{page:03d}_{i:02d}.jpg\"\n",
    "            urllib.request.urlretrieve(img, img_file)\n",
    "            ele = img_ele.find_element_by_xpath('./../../..')\n",
    "            name = ele.find_element_by_xpath('./div/p[@class=\"list_info\"]').text\n",
    "            price = ele.find_element_by_xpath('./div/p[@class=\"price\"]').text\n",
    "            item_url = f\"{item_url_src}/{img.split('/')[6]}\"\n",
    "            try :\n",
    "                del_price = ele.find_element_by_xpath('./div/p[@class=\"price\"]/del').text\n",
    "                price = price.replace(del_price,\"\")\n",
    "            except :\n",
    "                pass\n",
    "\n",
    "            df.loc[len(df)] = [img_file, name, price, img, item_url]\n",
    "\n",
    "        driver.close()\n",
    "    df.to_csv(f'../img_src/dataframe/final/musinsa{number_ls[k]:02d}.csv', encoding='utf-8')\n",
    "            \n",
    "if os.path.exists(f'../img_src/dataframe/mu.csv') :\n",
    "    os.remove(f'../img_src/dataframe/mu.csv')\n",
    "else : \n",
    "    df.to_csv(f'../img_src/dataframe/mu.csv', encoding='utf-8')"
   ]
  },
  {
   "cell_type": "code",
   "execution_count": null,
   "metadata": {},
   "outputs": [],
   "source": []
  }
 ],
 "metadata": {
  "kernelspec": {
   "display_name": "Python 3",
   "language": "python",
   "name": "python3"
  },
  "language_info": {
   "codemirror_mode": {
    "name": "ipython",
    "version": 3
   },
   "file_extension": ".py",
   "mimetype": "text/x-python",
   "name": "python",
   "nbconvert_exporter": "python",
   "pygments_lexer": "ipython3",
   "version": "3.8.3"
  }
 },
 "nbformat": 4,
 "nbformat_minor": 4
}
