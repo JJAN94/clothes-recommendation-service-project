{
 "cells": [
  {
   "cell_type": "markdown",
   "metadata": {},
   "source": [
    "# 무xx 크롤링"
   ]
  },
  {
   "cell_type": "markdown",
   "metadata": {},
   "source": [
    "## Import package"
   ]
  },
  {
   "cell_type": "code",
   "execution_count": 1,
   "metadata": {},
   "outputs": [],
   "source": [
    "import urllib\n",
    "from selenium import webdriver\n",
    "import time\n",
    "import pandas as pd\n",
    "import sys\n",
    "import os\n",
    "from tqdm import tqdm"
   ]
  },
  {
   "cell_type": "markdown",
   "metadata": {},
   "source": [
    "## file name rule\n",
    "- {number_ls[k]:02d}_\\{page:03d}_\\{i:02d}.jpg\n",
    "- number_ls\n",
    "    - 01 : 후드 집업\n",
    "    - 02 : 셔츠/블라우스\n",
    "    - 03 : 긴팔 티셔츠\n",
    "    - 04 : 맨투맨/스웨트셔츠\n",
    "    - 05 : 슈트/블레이저 재킷\n",
    "    - 06 : 후드 티셔츠\n",
    "    - 07 : 니트/스웨터\n",
    "    - 08 : 데님 팬츠\n",
    "    - 09 : 트레이닝/조거 팬츠\n",
    "    - 10 : 슈트 팬츠/슬랙스\n",
    "- page : site page number\n",
    "- i : image index per page"
   ]
  },
  {
   "cell_type": "markdown",
   "metadata": {},
   "source": [
    "## page information"
   ]
  },
  {
   "cell_type": "code",
   "execution_count": 2,
   "metadata": {},
   "outputs": [],
   "source": [
    "number_ls = [1, 2, 3, 4, 5, 6, 7, 8, 9, 10]\n",
    "page_count = [27, 147, 101, 245, 25, 153, 77, 69, 112, 49]\n",
    "page_category = ['002022', '001002', '001010', '001005', '002003', '001004', '001006', '003002', '003004', '003008']"
   ]
  },
  {
   "cell_type": "markdown",
   "metadata": {},
   "source": [
    "## Crawling Code"
   ]
  },
  {
   "cell_type": "code",
   "execution_count": 3,
   "metadata": {},
   "outputs": [
    {
     "name": "stderr",
     "output_type": "stream",
     "text": [
      "100%|██████████| 245/245 [2:23:25<00:00, 35.12s/it]  \n"
     ]
    }
   ],
   "source": [
    "df = pd.DataFrame(columns=['img', 'title', 'price', 'img_url', 'item_url'])\n",
    "df.index.name = 'ID'\n",
    "item_url_src = 'https://store.musinsa.com/app/goods'\n",
    "\n",
    "for k in range(3, 4):\n",
    "    for page in tqdm(range(1, page_count[k]+1)):\n",
    "        binary = './chromedriver/chromedriver.exe'\n",
    "        driver = webdriver.Chrome(binary)\n",
    "\n",
    "        # 인기탭 창 띄우기\n",
    "        # 후드 집업\n",
    "        url = f\"https://search.musinsa.com/category/{page_category[k]}?d_cat_cd={page_category[k]}&brand=&rate=&page_kind=search&list_kind=small&sort=pop&sub_sort=&page={page}&display_cnt=90&sale_goods=&ex_soldout=&color=&price1=&price2=&exclusive_yn=&shoeSizeOption=&tags=&campaign_id=&timesale_yn=&q=&includeKeywords=&measure=\"\n",
    "        driver.get(url)\n",
    "        time.sleep(2)\n",
    "\n",
    "        # 남성 항목 클릭\n",
    "        btn = driver.find_element_by_xpath('/html/body/div[2]/div[3]/div[12]/button[2]')\n",
    "        btn.click()\n",
    "        time.sleep(1)\n",
    "        #pattern\n",
    "        musinsa = driver.find_elements_by_xpath('//img[@class=\"lazyload lazy\"]')\n",
    "\n",
    "        for i in range(len(musinsa)):\n",
    "\n",
    "            img_ele = musinsa[i]\n",
    "            driver.execute_script(\"arguments[0].scrollIntoView();\", img_ele)\n",
    "            img = img_ele.get_attribute('src')\n",
    "\n",
    "            img_file = f\"../data/image/mall_image/{number_ls[k]:02d}_{page:03d}_{i:02d}.jpg\"\n",
    "            urllib.request.urlretrieve(img, img_file)\n",
    "            ele = img_ele.find_element_by_xpath('./../../..')\n",
    "            name = ele.find_element_by_xpath('./div/p[@class=\"list_info\"]').text\n",
    "            price = ele.find_element_by_xpath('./div/p[@class=\"price\"]').text\n",
    "#             print(img)\n",
    "            try: \n",
    "                item_url = f\"{item_url_src}/{img.split('/')[6]}\"\n",
    "            except:\n",
    "                item_rul = f\"{item_url_src}/{img.split('/')[4]}\"\n",
    "            \n",
    "            try :\n",
    "                del_price = ele.find_element_by_xpath('./div/p[@class=\"price\"]/del').text\n",
    "                price = price.replace(del_price,\"\")\n",
    "            except :\n",
    "                pass\n",
    "\n",
    "            df.loc[len(df)] = [img_file, name, price, img, item_url]\n",
    "            if os.path.exists(f\"../data/csv/musin.csv\"):\n",
    "                os.remove(f\"../data/csv/musin.csv\")\n",
    "                df.to_csv(f'../data/csv/musin.csv', encoding='utf-8')\n",
    "            else:\n",
    "                df.to_csv(f'../data/csv/musin.csv', encoding='utf-8')\n",
    "                \n",
    "        driver.close()\n",
    "    df.to_csv(f'../data/csv/mu{number_ls[k]:02d}.csv', encoding='utf-8')\n",
    "            \n",
    "if os.path.exists(f'../data/csv/mu_shop.csv') :\n",
    "    os.remove(f'../data/csv/mu_shop.csv')\n",
    "else : \n",
    "    df.to_csv(f'../data/csv/mu_shop.csv', encoding='utf-8')"
   ]
  },
  {
   "cell_type": "code",
   "execution_count": 2,
   "metadata": {},
   "outputs": [],
   "source": [
    "df1 = pd.read_csv('../data/csv/mu03.csv')\n",
    "df2 = pd.read_csv('../data/csv/mu04.csv')\n",
    "df3 = pd.read_csv('../data/csv/mu07.csv')\n",
    "df4 = pd.read_csv('../data/csv/mu10.csv')"
   ]
  },
  {
   "cell_type": "code",
   "execution_count": 3,
   "metadata": {},
   "outputs": [],
   "source": [
    "final_df = pd.concat([df1, df2, df3, df4])"
   ]
  },
  {
   "cell_type": "code",
   "execution_count": 4,
   "metadata": {},
   "outputs": [],
   "source": [
    "final_df.rename(columns = {'ID':'ID_number'}, inplace=True)"
   ]
  },
  {
   "cell_type": "code",
   "execution_count": 11,
   "metadata": {},
   "outputs": [
    {
     "name": "stderr",
     "output_type": "stream",
     "text": [
      "C:\\Users\\JAY\\anaconda3\\lib\\site-packages\\pandas\\core\\indexing.py:1637: SettingWithCopyWarning: \n",
      "A value is trying to be set on a copy of a slice from a DataFrame\n",
      "\n",
      "See the caveats in the documentation: https://pandas.pydata.org/pandas-docs/stable/user_guide/indexing.html#returning-a-view-versus-a-copy\n",
      "  self._setitem_single_block(indexer, value, name)\n"
     ]
    }
   ],
   "source": [
    "for i in range(final_df.shape[0]):\n",
    "    final_df['ID_number'].iloc[i] = i"
   ]
  },
  {
   "cell_type": "code",
   "execution_count": 27,
   "metadata": {},
   "outputs": [],
   "source": [
    "final_df.set_index(keys=np.arange(len(final_df)), inplace=True)"
   ]
  },
  {
   "cell_type": "code",
   "execution_count": 32,
   "metadata": {},
   "outputs": [],
   "source": [
    "# final_df.to_csv('../data/csv/FinalMu.csv', encoding='utf-8')\n",
    "final_df.to_csv('../data/csv/FinalMu.csv', encoding='utf-8')"
   ]
  },
  {
   "cell_type": "code",
   "execution_count": 13,
   "metadata": {},
   "outputs": [],
   "source": [
    "df_ = pd.read_csv('../data/csv/FinalMu.csv')"
   ]
  },
  {
   "cell_type": "code",
   "execution_count": 14,
   "metadata": {},
   "outputs": [],
   "source": [
    "df_.drop(columns='Unnamed: 0', inplace=True)"
   ]
  },
  {
   "cell_type": "code",
   "execution_count": 15,
   "metadata": {},
   "outputs": [
    {
     "data": {
      "text/plain": [
       "RangeIndex(start=0, stop=89930, step=1)"
      ]
     },
     "execution_count": 15,
     "metadata": {},
     "output_type": "execute_result"
    }
   ],
   "source": [
    "df.set_index"
   ]
  },
  {
   "cell_type": "code",
   "execution_count": 10,
   "metadata": {},
   "outputs": [],
   "source": [
    "df_.to_csv('../data/csv/FinalMu.csv', encoding='utf-8')"
   ]
  },
  {
   "cell_type": "code",
   "execution_count": 18,
   "metadata": {},
   "outputs": [],
   "source": [
    "df_.set_index('ID_number', inplace=True)"
   ]
  },
  {
   "cell_type": "code",
   "execution_count": 20,
   "metadata": {},
   "outputs": [],
   "source": [
    "df_.to_csv('../data/csv/FinalMu.csv', encoding='utf-8')"
   ]
  },
  {
   "cell_type": "code",
   "execution_count": null,
   "metadata": {},
   "outputs": [],
   "source": []
  },
  {
   "cell_type": "code",
   "execution_count": 9,
   "metadata": {
    "tags": []
   },
   "outputs": [],
   "source": [
    "df = pd.read_csv('../data/csv/FinalMu.csv')\n",
    "ls = []\n",
    "for i in range(df.shape[0]):\n",
    "    ls.append(df['img'].iloc[i].split('/')[-1])"
   ]
  },
  {
   "cell_type": "code",
   "execution_count": 6,
   "metadata": {},
   "outputs": [
    {
     "data": {
      "text/plain": [
       "0        ../data/image/mall_image/01_001_00.jpg\n",
       "1        ../data/image/mall_image/01_001_01.jpg\n",
       "2        ../data/image/mall_image/01_001_02.jpg\n",
       "3        ../data/image/mall_image/01_001_03.jpg\n",
       "4        ../data/image/mall_image/01_001_04.jpg\n",
       "                          ...                  \n",
       "89925    ../data/image/mall_image/10_049_14.jpg\n",
       "89926    ../data/image/mall_image/10_049_15.jpg\n",
       "89927    ../data/image/mall_image/10_049_16.jpg\n",
       "89928    ../data/image/mall_image/10_049_17.jpg\n",
       "89929    ../data/image/mall_image/10_049_18.jpg\n",
       "Name: img, Length: 89930, dtype: object"
      ]
     },
     "execution_count": 6,
     "metadata": {},
     "output_type": "execute_result"
    }
   ],
   "source": [
    "df['img']"
   ]
  },
  {
   "cell_type": "code",
   "execution_count": 50,
   "metadata": {},
   "outputs": [],
   "source": [
    "ls2 = os.listdir('../data/image/mall_image')"
   ]
  },
  {
   "cell_type": "code",
   "execution_count": 25,
   "metadata": {},
   "outputs": [
    {
     "name": "stderr",
     "output_type": "stream",
     "text": [
      "100%|██████████| 89930/89930 [16:04<00:00, 93.22it/s] \n"
     ]
    }
   ],
   "source": [
    "dd = pd.DataFrame(columns=['name', 'bool'])\n",
    "dd.head()\n",
    "for j in tqdm(ls):\n",
    "    for k in range(df.shape[0]):\n",
    "        if j == ls2[k]:\n",
    "            dd.loc[len(dd)] = [j, 'True']\n",
    "            \n",
    "            \n",
    "#     len(ls), len(ls2)"
   ]
  },
  {
   "cell_type": "code",
   "execution_count": 48,
   "metadata": {},
   "outputs": [
    {
     "data": {
      "text/plain": [
       "(89930, 89930)"
      ]
     },
     "execution_count": 48,
     "metadata": {},
     "output_type": "execute_result"
    }
   ],
   "source": [
    "len(ls), len(ls2)"
   ]
  },
  {
   "cell_type": "code",
   "execution_count": 51,
   "metadata": {},
   "outputs": [],
   "source": [
    "data = {'csv':ls, 'imagefile':ls2}\n",
    "table = pd.DataFrame(data)"
   ]
  },
  {
   "cell_type": "code",
   "execution_count": 52,
   "metadata": {},
   "outputs": [
    {
     "name": "stderr",
     "output_type": "stream",
     "text": [
      "100%|██████████| 89930/89930 [00:01<00:00, 87385.02it/s]\n"
     ]
    }
   ],
   "source": [
    "for i in tqdm(range(len(ls))):\n",
    "    if table['csv'].iloc[i] != table['imagefile'].iloc[i]:\n",
    "        print(i, table['csv'].iloc[i])"
   ]
  },
  {
   "cell_type": "code",
   "execution_count": null,
   "metadata": {},
   "outputs": [],
   "source": []
  }
 ],
 "metadata": {
  "kernelspec": {
   "display_name": "Python 3",
   "language": "python",
   "name": "python3"
  },
  "language_info": {
   "codemirror_mode": {
    "name": "ipython",
    "version": 3
   },
   "file_extension": ".py",
   "mimetype": "text/x-python",
   "name": "python",
   "nbconvert_exporter": "python",
   "pygments_lexer": "ipython3",
   "version": "3.8.8"
  }
 },
 "nbformat": 4,
 "nbformat_minor": 4
}
